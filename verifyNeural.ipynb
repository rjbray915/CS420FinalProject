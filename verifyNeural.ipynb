{
 "cells": [
  {
   "cell_type": "code",
   "execution_count": 73,
   "metadata": {},
   "outputs": [],
   "source": [
    "import tensorflow as tf\n",
    "import os\n",
    "\n",
    "imgDir = os.path.join('dataset', 'flowers')\n",
    "imgSize = 120"
   ]
  },
  {
   "cell_type": "code",
   "execution_count": 74,
   "metadata": {},
   "outputs": [
    {
     "name": "stdout",
     "output_type": "stream",
     "text": [
      "Found 13838 files belonging to 14 classes.\n"
     ]
    }
   ],
   "source": [
    "dataset = tf.keras.preprocessing.image_dataset_from_directory(imgDir, image_size=(imgSize,imgSize), batch_size=32)\n",
    "testData = dataset.take(25)\n",
    "trainData = dataset.skip(25)"
   ]
  },
  {
   "cell_type": "code",
   "execution_count": 75,
   "metadata": {},
   "outputs": [
    {
     "name": "stdout",
     "output_type": "stream",
     "text": [
      "Model: \"model_16\"\n",
      "_________________________________________________________________\n",
      " Layer (type)                Output Shape              Param #   \n",
      "=================================================================\n",
      " input_22 (InputLayer)       [(None, 120, 120, 3)]     0         \n",
      "                                                                 \n",
      " conv2d_24 (Conv2D)          (None, 118, 118, 32)      896       \n",
      "                                                                 \n",
      " conv2d_25 (Conv2D)          (None, 116, 116, 64)      18496     \n",
      "                                                                 \n",
      " flatten_20 (Flatten)        (None, 861184)            0         \n",
      "                                                                 \n",
      " dropout_3 (Dropout)         (None, 861184)            0         \n",
      "                                                                 \n",
      " dense_20 (Dense)            (None, 32)                27557920  \n",
      "                                                                 \n",
      "=================================================================\n",
      "Total params: 27,577,312\n",
      "Trainable params: 27,577,312\n",
      "Non-trainable params: 0\n",
      "_________________________________________________________________\n"
     ]
    }
   ],
   "source": [
    "# build verification model\n",
    "inputs = tf.keras.layers.Input(shape=(imgSize, imgSize, 3))\n",
    "x = tf.keras.layers.Conv2D(filters=32, kernel_size=(3, 3), activation='relu')(inputs)\n",
    "x = tf.keras.layers.Conv2D(filters=64, kernel_size=(3, 3), activation='relu')(x)\n",
    "x = tf.keras.layers.Flatten()(x)\n",
    "x = tf.keras.layers.Dropout(0.2)(x)\n",
    "outputs = tf.keras.layers.Dense(units=32, activation='softmax')(x)\n",
    "\n",
    "model = tf.keras.Model(inputs=inputs, outputs=outputs)\n",
    "model.compile(loss='sparse_categorical_crossentropy', metrics='sparse_categorical_accuracy', optimizer='adam')\n",
    "model.summary()"
   ]
  },
  {
   "cell_type": "code",
   "execution_count": 80,
   "metadata": {},
   "outputs": [
    {
     "name": "stdout",
     "output_type": "stream",
     "text": [
      "<SkipDataset element_spec=(TensorSpec(shape=(None, 120, 120, 3), dtype=tf.float32, name=None), TensorSpec(shape=(None,), dtype=tf.int32, name=None))> \n",
      " <TakeDataset element_spec=(TensorSpec(shape=(None, 120, 120, 3), dtype=tf.float32, name=None), TensorSpec(shape=(None,), dtype=tf.int32, name=None))> \n",
      " <BatchDataset element_spec=(TensorSpec(shape=(None, 120, 120, 3), dtype=tf.float32, name=None), TensorSpec(shape=(None,), dtype=tf.int32, name=None))> <bound method DatasetV2.cardinality of <BatchDataset element_spec=(TensorSpec(shape=(None, 120, 120, 3), dtype=tf.float32, name=None), TensorSpec(shape=(None,), dtype=tf.int32, name=None))>>\n",
      "Epoch 1/5\n",
      "408/408 [==============================] - 43s 105ms/step - loss: 0.1411 - sparse_categorical_accuracy: 0.9725\n",
      "Epoch 2/5\n",
      "408/408 [==============================] - 43s 105ms/step - loss: 0.2011 - sparse_categorical_accuracy: 0.9574\n",
      "Epoch 3/5\n",
      "408/408 [==============================] - 45s 108ms/step - loss: 0.1247 - sparse_categorical_accuracy: 0.9762\n",
      "Epoch 4/5\n",
      "408/408 [==============================] - 46s 112ms/step - loss: 0.1608 - sparse_categorical_accuracy: 0.9720\n",
      "Epoch 5/5\n",
      "408/408 [==============================] - 45s 109ms/step - loss: 0.1366 - sparse_categorical_accuracy: 0.9745\n"
     ]
    },
    {
     "data": {
      "text/plain": [
       "<keras.callbacks.History at 0x1dc400d43d0>"
      ]
     },
     "execution_count": 80,
     "metadata": {},
     "output_type": "execute_result"
    }
   ],
   "source": [
    "print(trainData, '\\n', testData, '\\n', dataset, dataset.cardinality)\n",
    "model.fit(trainData, epochs=5)"
   ]
  },
  {
   "cell_type": "code",
   "execution_count": 81,
   "metadata": {},
   "outputs": [
    {
     "name": "stdout",
     "output_type": "stream",
     "text": [
      "25/25 [==============================] - 1s 37ms/step - loss: 3.7141 - sparse_categorical_accuracy: 0.7150\n"
     ]
    },
    {
     "data": {
      "text/plain": [
       "[3.7141237258911133, 0.7149999737739563]"
      ]
     },
     "execution_count": 81,
     "metadata": {},
     "output_type": "execute_result"
    }
   ],
   "source": [
    "model.evaluate(testData)"
   ]
  }
 ],
 "metadata": {
  "interpreter": {
   "hash": "a0f82c626366566345e874f86ac566c29ee2b388954eabd0fa490f69ee941129"
  },
  "kernelspec": {
   "display_name": "Python 3.9.5 ('.venv': venv)",
   "language": "python",
   "name": "python3"
  },
  "language_info": {
   "codemirror_mode": {
    "name": "ipython",
    "version": 3
   },
   "file_extension": ".py",
   "mimetype": "text/x-python",
   "name": "python",
   "nbconvert_exporter": "python",
   "pygments_lexer": "ipython3",
   "version": "3.9.5"
  },
  "orig_nbformat": 4
 },
 "nbformat": 4,
 "nbformat_minor": 2
}
