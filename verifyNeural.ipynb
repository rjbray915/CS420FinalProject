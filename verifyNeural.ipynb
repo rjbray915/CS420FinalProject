{
 "cells": [
  {
   "cell_type": "code",
   "execution_count": 1,
   "metadata": {
    "colab": {
     "base_uri": "https://localhost:8080/"
    },
    "id": "ojbmaW3D26WB",
    "outputId": "66370790-50eb-450a-de48-b5b29172da7e"
   },
   "outputs": [
    {
     "ename": "ModuleNotFoundError",
     "evalue": "No module named 'google.colab'",
     "output_type": "error",
     "traceback": [
      "\u001b[1;31m---------------------------------------------------------------------------\u001b[0m",
      "\u001b[1;31mModuleNotFoundError\u001b[0m                       Traceback (most recent call last)",
      "\u001b[1;32md:\\rbfre\\Github\\CS420FinalProject\\verifyNeural.ipynb Cell 1'\u001b[0m in \u001b[0;36m<cell line: 1>\u001b[1;34m()\u001b[0m\n\u001b[1;32m----> <a href='vscode-notebook-cell:/d%3A/rbfre/Github/CS420FinalProject/verifyNeural.ipynb#ch0000000?line=0'>1</a>\u001b[0m \u001b[39mfrom\u001b[39;00m \u001b[39mgoogle\u001b[39;00m\u001b[39m.\u001b[39;00m\u001b[39mcolab\u001b[39;00m \u001b[39mimport\u001b[39;00m drive\n\u001b[0;32m      <a href='vscode-notebook-cell:/d%3A/rbfre/Github/CS420FinalProject/verifyNeural.ipynb#ch0000000?line=1'>2</a>\u001b[0m drive\u001b[39m.\u001b[39mmount(\u001b[39m'\u001b[39m\u001b[39m/content/drive\u001b[39m\u001b[39m'\u001b[39m)\n\u001b[0;32m      <a href='vscode-notebook-cell:/d%3A/rbfre/Github/CS420FinalProject/verifyNeural.ipynb#ch0000000?line=2'>3</a>\u001b[0m get_ipython()\u001b[39m.\u001b[39msystem(\u001b[39m'\u001b[39m\u001b[39mls \u001b[39m\u001b[39m\"\u001b[39m\u001b[39m/content/drive/MyDrive/\u001b[39m\u001b[39m\"\u001b[39m\u001b[39m'\u001b[39m)\n",
      "\u001b[1;31mModuleNotFoundError\u001b[0m: No module named 'google.colab'"
     ]
    }
   ],
   "source": [
    "from google.colab import drive\n",
    "drive.mount('/content/drive')\n",
    "!ls \"/content/drive/MyDrive/\"\n",
    "!unzip \"/content/drive/MyDrive/dataset.zip\""
   ]
  },
  {
   "cell_type": "code",
   "execution_count": 31,
   "metadata": {
    "colab": {
     "base_uri": "https://localhost:8080/"
    },
    "id": "Z2yuw9lZ2p-5",
    "outputId": "bfcb45ff-9a36-4c5a-b648-d27263adcd61"
   },
   "outputs": [
    {
     "name": "stdout",
     "output_type": "stream",
     "text": [
      "Requirement already satisfied: pygad in d:\\rbfre\\github\\cs420finalproject\\.venv\\lib\\site-packages (2.16.3)\n",
      "Requirement already satisfied: matplotlib in d:\\rbfre\\github\\cs420finalproject\\.venv\\lib\\site-packages (from pygad) (3.5.1)\n",
      "Requirement already satisfied: numpy in d:\\rbfre\\github\\cs420finalproject\\.venv\\lib\\site-packages (from pygad) (1.22.3)\n",
      "Requirement already satisfied: packaging>=20.0 in d:\\rbfre\\github\\cs420finalproject\\.venv\\lib\\site-packages (from matplotlib->pygad) (21.3)\n",
      "Requirement already satisfied: pillow>=6.2.0 in d:\\rbfre\\github\\cs420finalproject\\.venv\\lib\\site-packages (from matplotlib->pygad) (9.1.0)\n",
      "Requirement already satisfied: cycler>=0.10 in d:\\rbfre\\github\\cs420finalproject\\.venv\\lib\\site-packages (from matplotlib->pygad) (0.11.0)\n",
      "Requirement already satisfied: python-dateutil>=2.7 in d:\\rbfre\\github\\cs420finalproject\\.venv\\lib\\site-packages (from matplotlib->pygad) (2.8.2)\n",
      "Requirement already satisfied: fonttools>=4.22.0 in d:\\rbfre\\github\\cs420finalproject\\.venv\\lib\\site-packages (from matplotlib->pygad) (4.33.3)\n",
      "Requirement already satisfied: pyparsing>=2.2.1 in d:\\rbfre\\github\\cs420finalproject\\.venv\\lib\\site-packages (from matplotlib->pygad) (3.0.8)\n",
      "Requirement already satisfied: kiwisolver>=1.0.1 in d:\\rbfre\\github\\cs420finalproject\\.venv\\lib\\site-packages (from matplotlib->pygad) (1.4.2)\n",
      "Requirement already satisfied: six>=1.5 in d:\\rbfre\\github\\cs420finalproject\\.venv\\lib\\site-packages (from python-dateutil>=2.7->matplotlib->pygad) (1.16.0)\n",
      "Note: you may need to restart the kernel to use updated packages.\n"
     ]
    },
    {
     "name": "stderr",
     "output_type": "stream",
     "text": [
      "WARNING: You are using pip version 21.1.1; however, version 22.0.4 is available.\n",
      "You should consider upgrading via the 'd:\\rbfre\\Github\\CS420FinalProject\\.venv\\Scripts\\python.exe -m pip install --upgrade pip' command.\n"
     ]
    }
   ],
   "source": [
    "%pip install pygad\n",
    "\n",
    "import tensorflow as tf\n",
    "import pygad as pg\n",
    "import pygad.kerasga\n",
    "import os\n",
    "import numpy as np\n",
    "\n",
    "imgDir = os.path.join('dataset', 'flowers')\n",
    "imgSize = 32\n",
    "batchSize = 128"
   ]
  },
  {
   "cell_type": "code",
   "execution_count": 32,
   "metadata": {
    "colab": {
     "base_uri": "https://localhost:8080/"
    },
    "id": "rJnshWkb2p_B",
    "outputId": "5dc7e2bf-b41e-484e-8c54-1452dfe8c063"
   },
   "outputs": [
    {
     "name": "stdout",
     "output_type": "stream",
     "text": [
      "Found 13838 files belonging to 14 classes.\n"
     ]
    }
   ],
   "source": [
    "dataset = tf.keras.preprocessing.image_dataset_from_directory(imgDir, image_size=(imgSize,imgSize), batch_size=batchSize)\n",
    "testData = dataset.take(25)\n",
    "trainData = dataset.skip(25)\n",
    "yTrain = np.asarray([y for x,y in trainData.unbatch()])"
   ]
  },
  {
   "cell_type": "code",
   "execution_count": 33,
   "metadata": {
    "colab": {
     "base_uri": "https://localhost:8080/"
    },
    "id": "h5tcUwkg2p_F",
    "outputId": "df64b3b3-f192-4b96-ec68-fff59ec672ad"
   },
   "outputs": [
    {
     "name": "stdout",
     "output_type": "stream",
     "text": [
      "Model: \"model_4\"\n",
      "_________________________________________________________________\n",
      " Layer (type)                Output Shape              Param #   \n",
      "=================================================================\n",
      " input_5 (InputLayer)        [(None, 32, 32, 3)]       0         \n",
      "                                                                 \n",
      " conv2d_5 (Conv2D)           (None, 30, 30, 3)         84        \n",
      "                                                                 \n",
      " flatten_4 (Flatten)         (None, 2700)              0         \n",
      "                                                                 \n",
      " dropout_4 (Dropout)         (None, 2700)              0         \n",
      "                                                                 \n",
      " dense_4 (Dense)             (None, 14)                37814     \n",
      "                                                                 \n",
      "=================================================================\n",
      "Total params: 37,898\n",
      "Trainable params: 37,898\n",
      "Non-trainable params: 0\n",
      "_________________________________________________________________\n"
     ]
    }
   ],
   "source": [
    "# build verification model\n",
    "inputs = tf.keras.layers.Input(shape=(imgSize, imgSize, 3))\n",
    "x = tf.keras.layers.Conv2D(filters=8, kernel_size=(3, 3), activation='relu')(inputs)\n",
    "# x = tf.keras.layers.Conv2D(filters=64, kernel_size=(3, 3), activation='relu')(x)\n",
    "x = tf.keras.layers.Flatten()(x)\n",
    "x = tf.keras.layers.Dropout(0.2)(x)\n",
    "outputs = tf.keras.layers.Dense(units=14, activation='softmax')(x)\n",
    "\n",
    "# make model checkpoint to save weights\n",
    "checkpoints = tf.keras.callbacks.ModelCheckpoint(\"verifyWeights\", monitor=\"sparse_categorical_accuracy\", save_best_only=True)\n",
    "\n",
    "model = tf.keras.Model(inputs=inputs, outputs=outputs)\n",
    "model.compile(loss='sparse_categorical_crossentropy', metrics='sparse_categorical_accuracy', optimizer='adam')\n",
    "model.summary()"
   ]
  },
  {
   "cell_type": "code",
   "execution_count": 34,
   "metadata": {
    "colab": {
     "base_uri": "https://localhost:8080/"
    },
    "id": "x42bpf0S2p_I",
    "outputId": "8b91d194-53ff-4d13-8aaa-4833896df654"
   },
   "outputs": [
    {
     "name": "stdout",
     "output_type": "stream",
     "text": [
      "Epoch 1/5\n",
      "84/84 [==============================] - ETA: 0s - loss: 44.1633 - sparse_categorical_accuracy: 0.1056INFO:tensorflow:Assets written to: verifyWeights\\assets\n",
      "84/84 [==============================] - 5s 45ms/step - loss: 44.1633 - sparse_categorical_accuracy: 0.1056\n",
      "Epoch 2/5\n",
      "77/84 [==========================>...] - ETA: 0s - loss: 7.1298 - sparse_categorical_accuracy: 0.1149INFO:tensorflow:Assets written to: verifyWeights\\assets\n",
      "84/84 [==============================] - 5s 46ms/step - loss: 6.9604 - sparse_categorical_accuracy: 0.1153\n",
      "Epoch 3/5\n",
      "77/84 [==========================>...] - ETA: 0s - loss: 4.0524 - sparse_categorical_accuracy: 0.1217INFO:tensorflow:Assets written to: verifyWeights\\assets\n",
      "84/84 [==============================] - 5s 46ms/step - loss: 4.0119 - sparse_categorical_accuracy: 0.1212\n",
      "Epoch 4/5\n",
      "83/84 [============================>.] - ETA: 0s - loss: 3.2372 - sparse_categorical_accuracy: 0.1242INFO:tensorflow:Assets written to: verifyWeights\\assets\n",
      "84/84 [==============================] - 5s 49ms/step - loss: 3.2364 - sparse_categorical_accuracy: 0.1243\n",
      "Epoch 5/5\n",
      "72/84 [========================>.....] - ETA: 0s - loss: 2.9278 - sparse_categorical_accuracy: 0.1273"
     ]
    },
    {
     "ename": "KeyboardInterrupt",
     "evalue": "",
     "output_type": "error",
     "traceback": [
      "\u001b[1;31m---------------------------------------------------------------------------\u001b[0m",
      "\u001b[1;31mKeyboardInterrupt\u001b[0m                         Traceback (most recent call last)",
      "\u001b[1;32md:\\rbfre\\Github\\CS420FinalProject\\verifyNeural.ipynb Cell 5'\u001b[0m in \u001b[0;36m<cell line: 1>\u001b[1;34m()\u001b[0m\n\u001b[1;32m----> <a href='vscode-notebook-cell:/d%3A/rbfre/Github/CS420FinalProject/verifyNeural.ipynb#ch0000005?line=0'>1</a>\u001b[0m model\u001b[39m.\u001b[39;49mfit(trainData, epochs\u001b[39m=\u001b[39;49m\u001b[39m5\u001b[39;49m, callbacks\u001b[39m=\u001b[39;49mcheckpoints)\n",
      "File \u001b[1;32md:\\rbfre\\Github\\CS420FinalProject\\.venv\\lib\\site-packages\\keras\\utils\\traceback_utils.py:64\u001b[0m, in \u001b[0;36mfilter_traceback.<locals>.error_handler\u001b[1;34m(*args, **kwargs)\u001b[0m\n\u001b[0;32m     <a href='file:///d%3A/rbfre/Github/CS420FinalProject/.venv/lib/site-packages/keras/utils/traceback_utils.py?line=61'>62</a>\u001b[0m filtered_tb \u001b[39m=\u001b[39m \u001b[39mNone\u001b[39;00m\n\u001b[0;32m     <a href='file:///d%3A/rbfre/Github/CS420FinalProject/.venv/lib/site-packages/keras/utils/traceback_utils.py?line=62'>63</a>\u001b[0m \u001b[39mtry\u001b[39;00m:\n\u001b[1;32m---> <a href='file:///d%3A/rbfre/Github/CS420FinalProject/.venv/lib/site-packages/keras/utils/traceback_utils.py?line=63'>64</a>\u001b[0m   \u001b[39mreturn\u001b[39;00m fn(\u001b[39m*\u001b[39margs, \u001b[39m*\u001b[39m\u001b[39m*\u001b[39mkwargs)\n\u001b[0;32m     <a href='file:///d%3A/rbfre/Github/CS420FinalProject/.venv/lib/site-packages/keras/utils/traceback_utils.py?line=64'>65</a>\u001b[0m \u001b[39mexcept\u001b[39;00m \u001b[39mException\u001b[39;00m \u001b[39mas\u001b[39;00m e:  \u001b[39m# pylint: disable=broad-except\u001b[39;00m\n\u001b[0;32m     <a href='file:///d%3A/rbfre/Github/CS420FinalProject/.venv/lib/site-packages/keras/utils/traceback_utils.py?line=65'>66</a>\u001b[0m   filtered_tb \u001b[39m=\u001b[39m _process_traceback_frames(e\u001b[39m.\u001b[39m__traceback__)\n",
      "File \u001b[1;32md:\\rbfre\\Github\\CS420FinalProject\\.venv\\lib\\site-packages\\keras\\engine\\training.py:1384\u001b[0m, in \u001b[0;36mModel.fit\u001b[1;34m(self, x, y, batch_size, epochs, verbose, callbacks, validation_split, validation_data, shuffle, class_weight, sample_weight, initial_epoch, steps_per_epoch, validation_steps, validation_batch_size, validation_freq, max_queue_size, workers, use_multiprocessing)\u001b[0m\n\u001b[0;32m   <a href='file:///d%3A/rbfre/Github/CS420FinalProject/.venv/lib/site-packages/keras/engine/training.py?line=1376'>1377</a>\u001b[0m \u001b[39mwith\u001b[39;00m tf\u001b[39m.\u001b[39mprofiler\u001b[39m.\u001b[39mexperimental\u001b[39m.\u001b[39mTrace(\n\u001b[0;32m   <a href='file:///d%3A/rbfre/Github/CS420FinalProject/.venv/lib/site-packages/keras/engine/training.py?line=1377'>1378</a>\u001b[0m     \u001b[39m'\u001b[39m\u001b[39mtrain\u001b[39m\u001b[39m'\u001b[39m,\n\u001b[0;32m   <a href='file:///d%3A/rbfre/Github/CS420FinalProject/.venv/lib/site-packages/keras/engine/training.py?line=1378'>1379</a>\u001b[0m     epoch_num\u001b[39m=\u001b[39mepoch,\n\u001b[0;32m   <a href='file:///d%3A/rbfre/Github/CS420FinalProject/.venv/lib/site-packages/keras/engine/training.py?line=1379'>1380</a>\u001b[0m     step_num\u001b[39m=\u001b[39mstep,\n\u001b[0;32m   <a href='file:///d%3A/rbfre/Github/CS420FinalProject/.venv/lib/site-packages/keras/engine/training.py?line=1380'>1381</a>\u001b[0m     batch_size\u001b[39m=\u001b[39mbatch_size,\n\u001b[0;32m   <a href='file:///d%3A/rbfre/Github/CS420FinalProject/.venv/lib/site-packages/keras/engine/training.py?line=1381'>1382</a>\u001b[0m     _r\u001b[39m=\u001b[39m\u001b[39m1\u001b[39m):\n\u001b[0;32m   <a href='file:///d%3A/rbfre/Github/CS420FinalProject/.venv/lib/site-packages/keras/engine/training.py?line=1382'>1383</a>\u001b[0m   callbacks\u001b[39m.\u001b[39mon_train_batch_begin(step)\n\u001b[1;32m-> <a href='file:///d%3A/rbfre/Github/CS420FinalProject/.venv/lib/site-packages/keras/engine/training.py?line=1383'>1384</a>\u001b[0m   tmp_logs \u001b[39m=\u001b[39m \u001b[39mself\u001b[39;49m\u001b[39m.\u001b[39;49mtrain_function(iterator)\n\u001b[0;32m   <a href='file:///d%3A/rbfre/Github/CS420FinalProject/.venv/lib/site-packages/keras/engine/training.py?line=1384'>1385</a>\u001b[0m   \u001b[39mif\u001b[39;00m data_handler\u001b[39m.\u001b[39mshould_sync:\n\u001b[0;32m   <a href='file:///d%3A/rbfre/Github/CS420FinalProject/.venv/lib/site-packages/keras/engine/training.py?line=1385'>1386</a>\u001b[0m     context\u001b[39m.\u001b[39masync_wait()\n",
      "File \u001b[1;32md:\\rbfre\\Github\\CS420FinalProject\\.venv\\lib\\site-packages\\tensorflow\\python\\util\\traceback_utils.py:150\u001b[0m, in \u001b[0;36mfilter_traceback.<locals>.error_handler\u001b[1;34m(*args, **kwargs)\u001b[0m\n\u001b[0;32m    <a href='file:///d%3A/rbfre/Github/CS420FinalProject/.venv/lib/site-packages/tensorflow/python/util/traceback_utils.py?line=147'>148</a>\u001b[0m filtered_tb \u001b[39m=\u001b[39m \u001b[39mNone\u001b[39;00m\n\u001b[0;32m    <a href='file:///d%3A/rbfre/Github/CS420FinalProject/.venv/lib/site-packages/tensorflow/python/util/traceback_utils.py?line=148'>149</a>\u001b[0m \u001b[39mtry\u001b[39;00m:\n\u001b[1;32m--> <a href='file:///d%3A/rbfre/Github/CS420FinalProject/.venv/lib/site-packages/tensorflow/python/util/traceback_utils.py?line=149'>150</a>\u001b[0m   \u001b[39mreturn\u001b[39;00m fn(\u001b[39m*\u001b[39margs, \u001b[39m*\u001b[39m\u001b[39m*\u001b[39mkwargs)\n\u001b[0;32m    <a href='file:///d%3A/rbfre/Github/CS420FinalProject/.venv/lib/site-packages/tensorflow/python/util/traceback_utils.py?line=150'>151</a>\u001b[0m \u001b[39mexcept\u001b[39;00m \u001b[39mException\u001b[39;00m \u001b[39mas\u001b[39;00m e:\n\u001b[0;32m    <a href='file:///d%3A/rbfre/Github/CS420FinalProject/.venv/lib/site-packages/tensorflow/python/util/traceback_utils.py?line=151'>152</a>\u001b[0m   filtered_tb \u001b[39m=\u001b[39m _process_traceback_frames(e\u001b[39m.\u001b[39m__traceback__)\n",
      "File \u001b[1;32md:\\rbfre\\Github\\CS420FinalProject\\.venv\\lib\\site-packages\\tensorflow\\python\\eager\\def_function.py:915\u001b[0m, in \u001b[0;36mFunction.__call__\u001b[1;34m(self, *args, **kwds)\u001b[0m\n\u001b[0;32m    <a href='file:///d%3A/rbfre/Github/CS420FinalProject/.venv/lib/site-packages/tensorflow/python/eager/def_function.py?line=911'>912</a>\u001b[0m compiler \u001b[39m=\u001b[39m \u001b[39m\"\u001b[39m\u001b[39mxla\u001b[39m\u001b[39m\"\u001b[39m \u001b[39mif\u001b[39;00m \u001b[39mself\u001b[39m\u001b[39m.\u001b[39m_jit_compile \u001b[39melse\u001b[39;00m \u001b[39m\"\u001b[39m\u001b[39mnonXla\u001b[39m\u001b[39m\"\u001b[39m\n\u001b[0;32m    <a href='file:///d%3A/rbfre/Github/CS420FinalProject/.venv/lib/site-packages/tensorflow/python/eager/def_function.py?line=913'>914</a>\u001b[0m \u001b[39mwith\u001b[39;00m OptionalXlaContext(\u001b[39mself\u001b[39m\u001b[39m.\u001b[39m_jit_compile):\n\u001b[1;32m--> <a href='file:///d%3A/rbfre/Github/CS420FinalProject/.venv/lib/site-packages/tensorflow/python/eager/def_function.py?line=914'>915</a>\u001b[0m   result \u001b[39m=\u001b[39m \u001b[39mself\u001b[39m\u001b[39m.\u001b[39m_call(\u001b[39m*\u001b[39margs, \u001b[39m*\u001b[39m\u001b[39m*\u001b[39mkwds)\n\u001b[0;32m    <a href='file:///d%3A/rbfre/Github/CS420FinalProject/.venv/lib/site-packages/tensorflow/python/eager/def_function.py?line=916'>917</a>\u001b[0m new_tracing_count \u001b[39m=\u001b[39m \u001b[39mself\u001b[39m\u001b[39m.\u001b[39mexperimental_get_tracing_count()\n\u001b[0;32m    <a href='file:///d%3A/rbfre/Github/CS420FinalProject/.venv/lib/site-packages/tensorflow/python/eager/def_function.py?line=917'>918</a>\u001b[0m without_tracing \u001b[39m=\u001b[39m (tracing_count \u001b[39m==\u001b[39m new_tracing_count)\n",
      "File \u001b[1;32md:\\rbfre\\Github\\CS420FinalProject\\.venv\\lib\\site-packages\\tensorflow\\python\\eager\\def_function.py:947\u001b[0m, in \u001b[0;36mFunction._call\u001b[1;34m(self, *args, **kwds)\u001b[0m\n\u001b[0;32m    <a href='file:///d%3A/rbfre/Github/CS420FinalProject/.venv/lib/site-packages/tensorflow/python/eager/def_function.py?line=943'>944</a>\u001b[0m   \u001b[39mself\u001b[39m\u001b[39m.\u001b[39m_lock\u001b[39m.\u001b[39mrelease()\n\u001b[0;32m    <a href='file:///d%3A/rbfre/Github/CS420FinalProject/.venv/lib/site-packages/tensorflow/python/eager/def_function.py?line=944'>945</a>\u001b[0m   \u001b[39m# In this case we have created variables on the first call, so we run the\u001b[39;00m\n\u001b[0;32m    <a href='file:///d%3A/rbfre/Github/CS420FinalProject/.venv/lib/site-packages/tensorflow/python/eager/def_function.py?line=945'>946</a>\u001b[0m   \u001b[39m# defunned version which is guaranteed to never create variables.\u001b[39;00m\n\u001b[1;32m--> <a href='file:///d%3A/rbfre/Github/CS420FinalProject/.venv/lib/site-packages/tensorflow/python/eager/def_function.py?line=946'>947</a>\u001b[0m   \u001b[39mreturn\u001b[39;00m \u001b[39mself\u001b[39m\u001b[39m.\u001b[39m_stateless_fn(\u001b[39m*\u001b[39margs, \u001b[39m*\u001b[39m\u001b[39m*\u001b[39mkwds)  \u001b[39m# pylint: disable=not-callable\u001b[39;00m\n\u001b[0;32m    <a href='file:///d%3A/rbfre/Github/CS420FinalProject/.venv/lib/site-packages/tensorflow/python/eager/def_function.py?line=947'>948</a>\u001b[0m \u001b[39melif\u001b[39;00m \u001b[39mself\u001b[39m\u001b[39m.\u001b[39m_stateful_fn \u001b[39mis\u001b[39;00m \u001b[39mnot\u001b[39;00m \u001b[39mNone\u001b[39;00m:\n\u001b[0;32m    <a href='file:///d%3A/rbfre/Github/CS420FinalProject/.venv/lib/site-packages/tensorflow/python/eager/def_function.py?line=948'>949</a>\u001b[0m   \u001b[39m# Release the lock early so that multiple threads can perform the call\u001b[39;00m\n\u001b[0;32m    <a href='file:///d%3A/rbfre/Github/CS420FinalProject/.venv/lib/site-packages/tensorflow/python/eager/def_function.py?line=949'>950</a>\u001b[0m   \u001b[39m# in parallel.\u001b[39;00m\n\u001b[0;32m    <a href='file:///d%3A/rbfre/Github/CS420FinalProject/.venv/lib/site-packages/tensorflow/python/eager/def_function.py?line=950'>951</a>\u001b[0m   \u001b[39mself\u001b[39m\u001b[39m.\u001b[39m_lock\u001b[39m.\u001b[39mrelease()\n",
      "File \u001b[1;32md:\\rbfre\\Github\\CS420FinalProject\\.venv\\lib\\site-packages\\tensorflow\\python\\eager\\function.py:2956\u001b[0m, in \u001b[0;36mFunction.__call__\u001b[1;34m(self, *args, **kwargs)\u001b[0m\n\u001b[0;32m   <a href='file:///d%3A/rbfre/Github/CS420FinalProject/.venv/lib/site-packages/tensorflow/python/eager/function.py?line=2952'>2953</a>\u001b[0m \u001b[39mwith\u001b[39;00m \u001b[39mself\u001b[39m\u001b[39m.\u001b[39m_lock:\n\u001b[0;32m   <a href='file:///d%3A/rbfre/Github/CS420FinalProject/.venv/lib/site-packages/tensorflow/python/eager/function.py?line=2953'>2954</a>\u001b[0m   (graph_function,\n\u001b[0;32m   <a href='file:///d%3A/rbfre/Github/CS420FinalProject/.venv/lib/site-packages/tensorflow/python/eager/function.py?line=2954'>2955</a>\u001b[0m    filtered_flat_args) \u001b[39m=\u001b[39m \u001b[39mself\u001b[39m\u001b[39m.\u001b[39m_maybe_define_function(args, kwargs)\n\u001b[1;32m-> <a href='file:///d%3A/rbfre/Github/CS420FinalProject/.venv/lib/site-packages/tensorflow/python/eager/function.py?line=2955'>2956</a>\u001b[0m \u001b[39mreturn\u001b[39;00m graph_function\u001b[39m.\u001b[39;49m_call_flat(\n\u001b[0;32m   <a href='file:///d%3A/rbfre/Github/CS420FinalProject/.venv/lib/site-packages/tensorflow/python/eager/function.py?line=2956'>2957</a>\u001b[0m     filtered_flat_args, captured_inputs\u001b[39m=\u001b[39;49mgraph_function\u001b[39m.\u001b[39;49mcaptured_inputs)\n",
      "File \u001b[1;32md:\\rbfre\\Github\\CS420FinalProject\\.venv\\lib\\site-packages\\tensorflow\\python\\eager\\function.py:1853\u001b[0m, in \u001b[0;36mConcreteFunction._call_flat\u001b[1;34m(self, args, captured_inputs, cancellation_manager)\u001b[0m\n\u001b[0;32m   <a href='file:///d%3A/rbfre/Github/CS420FinalProject/.venv/lib/site-packages/tensorflow/python/eager/function.py?line=1848'>1849</a>\u001b[0m possible_gradient_type \u001b[39m=\u001b[39m gradients_util\u001b[39m.\u001b[39mPossibleTapeGradientTypes(args)\n\u001b[0;32m   <a href='file:///d%3A/rbfre/Github/CS420FinalProject/.venv/lib/site-packages/tensorflow/python/eager/function.py?line=1849'>1850</a>\u001b[0m \u001b[39mif\u001b[39;00m (possible_gradient_type \u001b[39m==\u001b[39m gradients_util\u001b[39m.\u001b[39mPOSSIBLE_GRADIENT_TYPES_NONE\n\u001b[0;32m   <a href='file:///d%3A/rbfre/Github/CS420FinalProject/.venv/lib/site-packages/tensorflow/python/eager/function.py?line=1850'>1851</a>\u001b[0m     \u001b[39mand\u001b[39;00m executing_eagerly):\n\u001b[0;32m   <a href='file:///d%3A/rbfre/Github/CS420FinalProject/.venv/lib/site-packages/tensorflow/python/eager/function.py?line=1851'>1852</a>\u001b[0m   \u001b[39m# No tape is watching; skip to running the function.\u001b[39;00m\n\u001b[1;32m-> <a href='file:///d%3A/rbfre/Github/CS420FinalProject/.venv/lib/site-packages/tensorflow/python/eager/function.py?line=1852'>1853</a>\u001b[0m   \u001b[39mreturn\u001b[39;00m \u001b[39mself\u001b[39m\u001b[39m.\u001b[39m_build_call_outputs(\u001b[39mself\u001b[39;49m\u001b[39m.\u001b[39;49m_inference_function\u001b[39m.\u001b[39;49mcall(\n\u001b[0;32m   <a href='file:///d%3A/rbfre/Github/CS420FinalProject/.venv/lib/site-packages/tensorflow/python/eager/function.py?line=1853'>1854</a>\u001b[0m       ctx, args, cancellation_manager\u001b[39m=\u001b[39;49mcancellation_manager))\n\u001b[0;32m   <a href='file:///d%3A/rbfre/Github/CS420FinalProject/.venv/lib/site-packages/tensorflow/python/eager/function.py?line=1854'>1855</a>\u001b[0m forward_backward \u001b[39m=\u001b[39m \u001b[39mself\u001b[39m\u001b[39m.\u001b[39m_select_forward_and_backward_functions(\n\u001b[0;32m   <a href='file:///d%3A/rbfre/Github/CS420FinalProject/.venv/lib/site-packages/tensorflow/python/eager/function.py?line=1855'>1856</a>\u001b[0m     args,\n\u001b[0;32m   <a href='file:///d%3A/rbfre/Github/CS420FinalProject/.venv/lib/site-packages/tensorflow/python/eager/function.py?line=1856'>1857</a>\u001b[0m     possible_gradient_type,\n\u001b[0;32m   <a href='file:///d%3A/rbfre/Github/CS420FinalProject/.venv/lib/site-packages/tensorflow/python/eager/function.py?line=1857'>1858</a>\u001b[0m     executing_eagerly)\n\u001b[0;32m   <a href='file:///d%3A/rbfre/Github/CS420FinalProject/.venv/lib/site-packages/tensorflow/python/eager/function.py?line=1858'>1859</a>\u001b[0m forward_function, args_with_tangents \u001b[39m=\u001b[39m forward_backward\u001b[39m.\u001b[39mforward()\n",
      "File \u001b[1;32md:\\rbfre\\Github\\CS420FinalProject\\.venv\\lib\\site-packages\\tensorflow\\python\\eager\\function.py:499\u001b[0m, in \u001b[0;36m_EagerDefinedFunction.call\u001b[1;34m(self, ctx, args, cancellation_manager)\u001b[0m\n\u001b[0;32m    <a href='file:///d%3A/rbfre/Github/CS420FinalProject/.venv/lib/site-packages/tensorflow/python/eager/function.py?line=496'>497</a>\u001b[0m \u001b[39mwith\u001b[39;00m _InterpolateFunctionError(\u001b[39mself\u001b[39m):\n\u001b[0;32m    <a href='file:///d%3A/rbfre/Github/CS420FinalProject/.venv/lib/site-packages/tensorflow/python/eager/function.py?line=497'>498</a>\u001b[0m   \u001b[39mif\u001b[39;00m cancellation_manager \u001b[39mis\u001b[39;00m \u001b[39mNone\u001b[39;00m:\n\u001b[1;32m--> <a href='file:///d%3A/rbfre/Github/CS420FinalProject/.venv/lib/site-packages/tensorflow/python/eager/function.py?line=498'>499</a>\u001b[0m     outputs \u001b[39m=\u001b[39m execute\u001b[39m.\u001b[39;49mexecute(\n\u001b[0;32m    <a href='file:///d%3A/rbfre/Github/CS420FinalProject/.venv/lib/site-packages/tensorflow/python/eager/function.py?line=499'>500</a>\u001b[0m         \u001b[39mstr\u001b[39;49m(\u001b[39mself\u001b[39;49m\u001b[39m.\u001b[39;49msignature\u001b[39m.\u001b[39;49mname),\n\u001b[0;32m    <a href='file:///d%3A/rbfre/Github/CS420FinalProject/.venv/lib/site-packages/tensorflow/python/eager/function.py?line=500'>501</a>\u001b[0m         num_outputs\u001b[39m=\u001b[39;49m\u001b[39mself\u001b[39;49m\u001b[39m.\u001b[39;49m_num_outputs,\n\u001b[0;32m    <a href='file:///d%3A/rbfre/Github/CS420FinalProject/.venv/lib/site-packages/tensorflow/python/eager/function.py?line=501'>502</a>\u001b[0m         inputs\u001b[39m=\u001b[39;49margs,\n\u001b[0;32m    <a href='file:///d%3A/rbfre/Github/CS420FinalProject/.venv/lib/site-packages/tensorflow/python/eager/function.py?line=502'>503</a>\u001b[0m         attrs\u001b[39m=\u001b[39;49mattrs,\n\u001b[0;32m    <a href='file:///d%3A/rbfre/Github/CS420FinalProject/.venv/lib/site-packages/tensorflow/python/eager/function.py?line=503'>504</a>\u001b[0m         ctx\u001b[39m=\u001b[39;49mctx)\n\u001b[0;32m    <a href='file:///d%3A/rbfre/Github/CS420FinalProject/.venv/lib/site-packages/tensorflow/python/eager/function.py?line=504'>505</a>\u001b[0m   \u001b[39melse\u001b[39;00m:\n\u001b[0;32m    <a href='file:///d%3A/rbfre/Github/CS420FinalProject/.venv/lib/site-packages/tensorflow/python/eager/function.py?line=505'>506</a>\u001b[0m     outputs \u001b[39m=\u001b[39m execute\u001b[39m.\u001b[39mexecute_with_cancellation(\n\u001b[0;32m    <a href='file:///d%3A/rbfre/Github/CS420FinalProject/.venv/lib/site-packages/tensorflow/python/eager/function.py?line=506'>507</a>\u001b[0m         \u001b[39mstr\u001b[39m(\u001b[39mself\u001b[39m\u001b[39m.\u001b[39msignature\u001b[39m.\u001b[39mname),\n\u001b[0;32m    <a href='file:///d%3A/rbfre/Github/CS420FinalProject/.venv/lib/site-packages/tensorflow/python/eager/function.py?line=507'>508</a>\u001b[0m         num_outputs\u001b[39m=\u001b[39m\u001b[39mself\u001b[39m\u001b[39m.\u001b[39m_num_outputs,\n\u001b[1;32m   (...)\u001b[0m\n\u001b[0;32m    <a href='file:///d%3A/rbfre/Github/CS420FinalProject/.venv/lib/site-packages/tensorflow/python/eager/function.py?line=510'>511</a>\u001b[0m         ctx\u001b[39m=\u001b[39mctx,\n\u001b[0;32m    <a href='file:///d%3A/rbfre/Github/CS420FinalProject/.venv/lib/site-packages/tensorflow/python/eager/function.py?line=511'>512</a>\u001b[0m         cancellation_manager\u001b[39m=\u001b[39mcancellation_manager)\n",
      "File \u001b[1;32md:\\rbfre\\Github\\CS420FinalProject\\.venv\\lib\\site-packages\\tensorflow\\python\\eager\\execute.py:54\u001b[0m, in \u001b[0;36mquick_execute\u001b[1;34m(op_name, num_outputs, inputs, attrs, ctx, name)\u001b[0m\n\u001b[0;32m     <a href='file:///d%3A/rbfre/Github/CS420FinalProject/.venv/lib/site-packages/tensorflow/python/eager/execute.py?line=51'>52</a>\u001b[0m \u001b[39mtry\u001b[39;00m:\n\u001b[0;32m     <a href='file:///d%3A/rbfre/Github/CS420FinalProject/.venv/lib/site-packages/tensorflow/python/eager/execute.py?line=52'>53</a>\u001b[0m   ctx\u001b[39m.\u001b[39mensure_initialized()\n\u001b[1;32m---> <a href='file:///d%3A/rbfre/Github/CS420FinalProject/.venv/lib/site-packages/tensorflow/python/eager/execute.py?line=53'>54</a>\u001b[0m   tensors \u001b[39m=\u001b[39m pywrap_tfe\u001b[39m.\u001b[39;49mTFE_Py_Execute(ctx\u001b[39m.\u001b[39;49m_handle, device_name, op_name,\n\u001b[0;32m     <a href='file:///d%3A/rbfre/Github/CS420FinalProject/.venv/lib/site-packages/tensorflow/python/eager/execute.py?line=54'>55</a>\u001b[0m                                       inputs, attrs, num_outputs)\n\u001b[0;32m     <a href='file:///d%3A/rbfre/Github/CS420FinalProject/.venv/lib/site-packages/tensorflow/python/eager/execute.py?line=55'>56</a>\u001b[0m \u001b[39mexcept\u001b[39;00m core\u001b[39m.\u001b[39m_NotOkStatusException \u001b[39mas\u001b[39;00m e:\n\u001b[0;32m     <a href='file:///d%3A/rbfre/Github/CS420FinalProject/.venv/lib/site-packages/tensorflow/python/eager/execute.py?line=56'>57</a>\u001b[0m   \u001b[39mif\u001b[39;00m name \u001b[39mis\u001b[39;00m \u001b[39mnot\u001b[39;00m \u001b[39mNone\u001b[39;00m:\n",
      "\u001b[1;31mKeyboardInterrupt\u001b[0m: "
     ]
    }
   ],
   "source": [
    "\n",
    "model.fit(trainData, epochs=5, callbacks=checkpoints)"
   ]
  },
  {
   "cell_type": "code",
   "execution_count": 20,
   "metadata": {
    "colab": {
     "base_uri": "https://localhost:8080/"
    },
    "id": "_k6nWwSz2p_L",
    "outputId": "0015ea76-35b8-49c2-a293-90e128c74946"
   },
   "outputs": [
    {
     "name": "stdout",
     "output_type": "stream",
     "text": [
      "25/25 [==============================] - 1s 41ms/step - loss: 3.0090 - sparse_categorical_accuracy: 0.1988\n"
     ]
    },
    {
     "data": {
      "text/plain": [
       "[3.0089855194091797, 0.19875000417232513]"
      ]
     },
     "execution_count": 20,
     "metadata": {},
     "output_type": "execute_result"
    }
   ],
   "source": [
    "model.evaluate(testData)"
   ]
  },
  {
   "cell_type": "code",
   "execution_count": 13,
   "metadata": {
    "colab": {
     "base_uri": "https://localhost:8080/"
    },
    "id": "HpUykTWVzJXh",
    "outputId": "1f5892f5-bc1d-4104-e05b-1f9f0dc819a3"
   },
   "outputs": [
    {
     "name": "stdout",
     "output_type": "stream",
     "text": [
      "(10638,)\n"
     ]
    }
   ],
   "source": [
    "print(yTrain.shape)"
   ]
  },
  {
   "cell_type": "code",
   "execution_count": 24,
   "metadata": {
    "id": "Po3YR4s68gsi"
   },
   "outputs": [],
   "source": [
    "# make a kerasGA\n",
    "myGA = pg.kerasga.KerasGA(model=model, num_solutions=20)\n",
    "\n",
    "# this is our fitness func\n",
    "def fitFunc(solution, solutionIndx):\n",
    "    print('in fitness func')\n",
    "    weightsMatrix = pg.kerasga.model_weights_as_matrix(model=model, weights_vector=solution)\n",
    "    model.set_weights(weights=weightsMatrix)\n",
    "    preds = model.predict(trainData)\n",
    "    sparseCE = tf.keras.losses.SparseCategoricalCrossentropy()\n",
    "    fitness = 1.0 / (sparseCE(yTrain, preds).numpy() + 0.00000001)\n",
    "    return fitness\n",
    "\n",
    "# progress callback for GA\n",
    "def genCallback(gaInstance):\n",
    "    print(f'Generation = {gaInstance.generations_completed}')\n",
    "    print(f'fitness = {gaInstance.best_solution()[1]}')"
   ]
  },
  {
   "cell_type": "code",
   "execution_count": 25,
   "metadata": {
    "id": "1-GHk2cQoeam"
   },
   "outputs": [],
   "source": [
    "# now make a GA instance with our variables\n",
    "numGen = 5\n",
    "numParents = 10\n",
    "initPopulation = myGA.population_weights\n",
    "\n",
    "gaInstance = pg.GA(num_generations=numGen,\n",
    "                   num_parents_mating=numParents,\n",
    "                   initial_population=initPopulation,\n",
    "                   fitness_func=fitFunc,\n",
    "                   on_generation=genCallback)"
   ]
  },
  {
   "cell_type": "code",
   "execution_count": 26,
   "metadata": {
    "colab": {
     "base_uri": "https://localhost:8080/",
     "height": 619
    },
    "id": "evAwFbJt_jwE",
    "outputId": "74c92b0e-b1d2-477d-eb9c-918d03df0546"
   },
   "outputs": [
    {
     "name": "stdout",
     "output_type": "stream",
     "text": [
      "in fitness func\n",
      "in fitness func\n",
      "in fitness func\n",
      "in fitness func\n",
      "in fitness func\n",
      "in fitness func\n",
      "in fitness func\n",
      "in fitness func\n",
      "in fitness func\n",
      "in fitness func\n",
      "in fitness func\n",
      "in fitness func\n",
      "in fitness func\n",
      "in fitness func\n",
      "in fitness func\n",
      "in fitness func\n",
      "in fitness func\n",
      "in fitness func\n",
      "in fitness func\n",
      "in fitness func\n",
      "in fitness func\n",
      "in fitness func\n",
      "in fitness func\n",
      "in fitness func\n",
      "in fitness func\n",
      "in fitness func\n",
      "in fitness func\n",
      "in fitness func\n",
      "in fitness func\n",
      "in fitness func\n",
      "Generation = 1\n",
      "in fitness func\n",
      "in fitness func\n",
      "in fitness func\n",
      "in fitness func\n",
      "in fitness func\n",
      "in fitness func\n",
      "in fitness func\n",
      "in fitness func\n",
      "in fitness func\n",
      "in fitness func\n",
      "fitness = 0.06777927801130573\n",
      "in fitness func\n",
      "in fitness func\n",
      "in fitness func\n",
      "in fitness func\n"
     ]
    },
    {
     "ename": "KeyboardInterrupt",
     "evalue": "",
     "output_type": "error",
     "traceback": [
      "\u001b[1;31m---------------------------------------------------------------------------\u001b[0m",
      "\u001b[1;31mKeyboardInterrupt\u001b[0m                         Traceback (most recent call last)",
      "\u001b[1;32md:\\rbfre\\Github\\CS420FinalProject\\verifyNeural.ipynb Cell 10'\u001b[0m in \u001b[0;36m<cell line: 1>\u001b[1;34m()\u001b[0m\n\u001b[1;32m----> <a href='vscode-notebook-cell:/d%3A/rbfre/Github/CS420FinalProject/verifyNeural.ipynb#ch0000010?line=0'>1</a>\u001b[0m gaInstance\u001b[39m.\u001b[39;49mrun()\n\u001b[0;32m      <a href='vscode-notebook-cell:/d%3A/rbfre/Github/CS420FinalProject/verifyNeural.ipynb#ch0000010?line=1'>2</a>\u001b[0m gaInstance\u001b[39m.\u001b[39mplot_fitness(title\u001b[39m=\u001b[39m\u001b[39m\"\u001b[39m\u001b[39mwoO baby\u001b[39m\u001b[39m\"\u001b[39m, linewidth\u001b[39m=\u001b[39m\u001b[39m4\u001b[39m)\n",
      "File \u001b[1;32md:\\rbfre\\Github\\CS420FinalProject\\.venv\\lib\\site-packages\\pygad\\pygad.py:1268\u001b[0m, in \u001b[0;36mGA.run\u001b[1;34m(self)\u001b[0m\n\u001b[0;32m   <a href='file:///d%3A/rbfre/Github/CS420FinalProject/.venv/lib/site-packages/pygad/pygad.py?line=1265'>1266</a>\u001b[0m \u001b[39mself\u001b[39m\u001b[39m.\u001b[39mprevious_generation_fitness \u001b[39m=\u001b[39m \u001b[39mself\u001b[39m\u001b[39m.\u001b[39mlast_generation_fitness\u001b[39m.\u001b[39mcopy()\n\u001b[0;32m   <a href='file:///d%3A/rbfre/Github/CS420FinalProject/.venv/lib/site-packages/pygad/pygad.py?line=1266'>1267</a>\u001b[0m \u001b[39m# Measuring the fitness of each chromosome in the population. Save the fitness in the last_generation_fitness attribute.\u001b[39;00m\n\u001b[1;32m-> <a href='file:///d%3A/rbfre/Github/CS420FinalProject/.venv/lib/site-packages/pygad/pygad.py?line=1267'>1268</a>\u001b[0m \u001b[39mself\u001b[39m\u001b[39m.\u001b[39mlast_generation_fitness \u001b[39m=\u001b[39m \u001b[39mself\u001b[39;49m\u001b[39m.\u001b[39;49mcal_pop_fitness()\n\u001b[0;32m   <a href='file:///d%3A/rbfre/Github/CS420FinalProject/.venv/lib/site-packages/pygad/pygad.py?line=1269'>1270</a>\u001b[0m best_solution, best_solution_fitness, best_match_idx \u001b[39m=\u001b[39m \u001b[39mself\u001b[39m\u001b[39m.\u001b[39mbest_solution(pop_fitness\u001b[39m=\u001b[39m\u001b[39mself\u001b[39m\u001b[39m.\u001b[39mlast_generation_fitness)\n\u001b[0;32m   <a href='file:///d%3A/rbfre/Github/CS420FinalProject/.venv/lib/site-packages/pygad/pygad.py?line=1271'>1272</a>\u001b[0m \u001b[39m# Appending the best solution in the current generation to the best_solutions list.\u001b[39;00m\n",
      "File \u001b[1;32md:\\rbfre\\Github\\CS420FinalProject\\.venv\\lib\\site-packages\\pygad\\pygad.py:1159\u001b[0m, in \u001b[0;36mGA.cal_pop_fitness\u001b[1;34m(self)\u001b[0m\n\u001b[0;32m   <a href='file:///d%3A/rbfre/Github/CS420FinalProject/.venv/lib/site-packages/pygad/pygad.py?line=1156'>1157</a>\u001b[0m     fitness \u001b[39m=\u001b[39m \u001b[39mself\u001b[39m\u001b[39m.\u001b[39mprevious_generation_fitness[parent_idx]\n\u001b[0;32m   <a href='file:///d%3A/rbfre/Github/CS420FinalProject/.venv/lib/site-packages/pygad/pygad.py?line=1157'>1158</a>\u001b[0m \u001b[39melse\u001b[39;00m:\n\u001b[1;32m-> <a href='file:///d%3A/rbfre/Github/CS420FinalProject/.venv/lib/site-packages/pygad/pygad.py?line=1158'>1159</a>\u001b[0m     fitness \u001b[39m=\u001b[39m \u001b[39mself\u001b[39;49m\u001b[39m.\u001b[39;49mfitness_func(sol, sol_idx)\n\u001b[0;32m   <a href='file:///d%3A/rbfre/Github/CS420FinalProject/.venv/lib/site-packages/pygad/pygad.py?line=1159'>1160</a>\u001b[0m     \u001b[39mif\u001b[39;00m \u001b[39mtype\u001b[39m(fitness) \u001b[39min\u001b[39;00m GA\u001b[39m.\u001b[39msupported_int_float_types:\n\u001b[0;32m   <a href='file:///d%3A/rbfre/Github/CS420FinalProject/.venv/lib/site-packages/pygad/pygad.py?line=1160'>1161</a>\u001b[0m         \u001b[39mpass\u001b[39;00m\n",
      "\u001b[1;32md:\\rbfre\\Github\\CS420FinalProject\\verifyNeural.ipynb Cell 8'\u001b[0m in \u001b[0;36mfitFunc\u001b[1;34m(solution, solutionIndx)\u001b[0m\n\u001b[0;32m      <a href='vscode-notebook-cell:/d%3A/rbfre/Github/CS420FinalProject/verifyNeural.ipynb#ch0000008?line=6'>7</a>\u001b[0m weightsMatrix \u001b[39m=\u001b[39m pg\u001b[39m.\u001b[39mkerasga\u001b[39m.\u001b[39mmodel_weights_as_matrix(model\u001b[39m=\u001b[39mmodel, weights_vector\u001b[39m=\u001b[39msolution)\n\u001b[0;32m      <a href='vscode-notebook-cell:/d%3A/rbfre/Github/CS420FinalProject/verifyNeural.ipynb#ch0000008?line=7'>8</a>\u001b[0m model\u001b[39m.\u001b[39mset_weights(weights\u001b[39m=\u001b[39mweightsMatrix)\n\u001b[1;32m----> <a href='vscode-notebook-cell:/d%3A/rbfre/Github/CS420FinalProject/verifyNeural.ipynb#ch0000008?line=8'>9</a>\u001b[0m preds \u001b[39m=\u001b[39m model\u001b[39m.\u001b[39;49mpredict(trainData)\n\u001b[0;32m     <a href='vscode-notebook-cell:/d%3A/rbfre/Github/CS420FinalProject/verifyNeural.ipynb#ch0000008?line=9'>10</a>\u001b[0m sparseCE \u001b[39m=\u001b[39m tf\u001b[39m.\u001b[39mkeras\u001b[39m.\u001b[39mlosses\u001b[39m.\u001b[39mSparseCategoricalCrossentropy()\n\u001b[0;32m     <a href='vscode-notebook-cell:/d%3A/rbfre/Github/CS420FinalProject/verifyNeural.ipynb#ch0000008?line=10'>11</a>\u001b[0m fitness \u001b[39m=\u001b[39m \u001b[39m1.0\u001b[39m \u001b[39m/\u001b[39m (sparseCE(yTrain, preds)\u001b[39m.\u001b[39mnumpy() \u001b[39m+\u001b[39m \u001b[39m0.00000001\u001b[39m)\n",
      "File \u001b[1;32md:\\rbfre\\Github\\CS420FinalProject\\.venv\\lib\\site-packages\\keras\\utils\\traceback_utils.py:64\u001b[0m, in \u001b[0;36mfilter_traceback.<locals>.error_handler\u001b[1;34m(*args, **kwargs)\u001b[0m\n\u001b[0;32m     <a href='file:///d%3A/rbfre/Github/CS420FinalProject/.venv/lib/site-packages/keras/utils/traceback_utils.py?line=61'>62</a>\u001b[0m filtered_tb \u001b[39m=\u001b[39m \u001b[39mNone\u001b[39;00m\n\u001b[0;32m     <a href='file:///d%3A/rbfre/Github/CS420FinalProject/.venv/lib/site-packages/keras/utils/traceback_utils.py?line=62'>63</a>\u001b[0m \u001b[39mtry\u001b[39;00m:\n\u001b[1;32m---> <a href='file:///d%3A/rbfre/Github/CS420FinalProject/.venv/lib/site-packages/keras/utils/traceback_utils.py?line=63'>64</a>\u001b[0m   \u001b[39mreturn\u001b[39;00m fn(\u001b[39m*\u001b[39margs, \u001b[39m*\u001b[39m\u001b[39m*\u001b[39mkwargs)\n\u001b[0;32m     <a href='file:///d%3A/rbfre/Github/CS420FinalProject/.venv/lib/site-packages/keras/utils/traceback_utils.py?line=64'>65</a>\u001b[0m \u001b[39mexcept\u001b[39;00m \u001b[39mException\u001b[39;00m \u001b[39mas\u001b[39;00m e:  \u001b[39m# pylint: disable=broad-except\u001b[39;00m\n\u001b[0;32m     <a href='file:///d%3A/rbfre/Github/CS420FinalProject/.venv/lib/site-packages/keras/utils/traceback_utils.py?line=65'>66</a>\u001b[0m   filtered_tb \u001b[39m=\u001b[39m _process_traceback_frames(e\u001b[39m.\u001b[39m__traceback__)\n",
      "File \u001b[1;32md:\\rbfre\\Github\\CS420FinalProject\\.venv\\lib\\site-packages\\keras\\engine\\training.py:1982\u001b[0m, in \u001b[0;36mModel.predict\u001b[1;34m(self, x, batch_size, verbose, steps, callbacks, max_queue_size, workers, use_multiprocessing)\u001b[0m\n\u001b[0;32m   <a href='file:///d%3A/rbfre/Github/CS420FinalProject/.venv/lib/site-packages/keras/engine/training.py?line=1979'>1980</a>\u001b[0m \u001b[39mfor\u001b[39;00m step \u001b[39min\u001b[39;00m data_handler\u001b[39m.\u001b[39msteps():\n\u001b[0;32m   <a href='file:///d%3A/rbfre/Github/CS420FinalProject/.venv/lib/site-packages/keras/engine/training.py?line=1980'>1981</a>\u001b[0m   callbacks\u001b[39m.\u001b[39mon_predict_batch_begin(step)\n\u001b[1;32m-> <a href='file:///d%3A/rbfre/Github/CS420FinalProject/.venv/lib/site-packages/keras/engine/training.py?line=1981'>1982</a>\u001b[0m   tmp_batch_outputs \u001b[39m=\u001b[39m \u001b[39mself\u001b[39;49m\u001b[39m.\u001b[39;49mpredict_function(iterator)\n\u001b[0;32m   <a href='file:///d%3A/rbfre/Github/CS420FinalProject/.venv/lib/site-packages/keras/engine/training.py?line=1982'>1983</a>\u001b[0m   \u001b[39mif\u001b[39;00m data_handler\u001b[39m.\u001b[39mshould_sync:\n\u001b[0;32m   <a href='file:///d%3A/rbfre/Github/CS420FinalProject/.venv/lib/site-packages/keras/engine/training.py?line=1983'>1984</a>\u001b[0m     context\u001b[39m.\u001b[39masync_wait()\n",
      "File \u001b[1;32md:\\rbfre\\Github\\CS420FinalProject\\.venv\\lib\\site-packages\\tensorflow\\python\\util\\traceback_utils.py:150\u001b[0m, in \u001b[0;36mfilter_traceback.<locals>.error_handler\u001b[1;34m(*args, **kwargs)\u001b[0m\n\u001b[0;32m    <a href='file:///d%3A/rbfre/Github/CS420FinalProject/.venv/lib/site-packages/tensorflow/python/util/traceback_utils.py?line=147'>148</a>\u001b[0m filtered_tb \u001b[39m=\u001b[39m \u001b[39mNone\u001b[39;00m\n\u001b[0;32m    <a href='file:///d%3A/rbfre/Github/CS420FinalProject/.venv/lib/site-packages/tensorflow/python/util/traceback_utils.py?line=148'>149</a>\u001b[0m \u001b[39mtry\u001b[39;00m:\n\u001b[1;32m--> <a href='file:///d%3A/rbfre/Github/CS420FinalProject/.venv/lib/site-packages/tensorflow/python/util/traceback_utils.py?line=149'>150</a>\u001b[0m   \u001b[39mreturn\u001b[39;00m fn(\u001b[39m*\u001b[39margs, \u001b[39m*\u001b[39m\u001b[39m*\u001b[39mkwargs)\n\u001b[0;32m    <a href='file:///d%3A/rbfre/Github/CS420FinalProject/.venv/lib/site-packages/tensorflow/python/util/traceback_utils.py?line=150'>151</a>\u001b[0m \u001b[39mexcept\u001b[39;00m \u001b[39mException\u001b[39;00m \u001b[39mas\u001b[39;00m e:\n\u001b[0;32m    <a href='file:///d%3A/rbfre/Github/CS420FinalProject/.venv/lib/site-packages/tensorflow/python/util/traceback_utils.py?line=151'>152</a>\u001b[0m   filtered_tb \u001b[39m=\u001b[39m _process_traceback_frames(e\u001b[39m.\u001b[39m__traceback__)\n",
      "File \u001b[1;32md:\\rbfre\\Github\\CS420FinalProject\\.venv\\lib\\site-packages\\tensorflow\\python\\eager\\def_function.py:915\u001b[0m, in \u001b[0;36mFunction.__call__\u001b[1;34m(self, *args, **kwds)\u001b[0m\n\u001b[0;32m    <a href='file:///d%3A/rbfre/Github/CS420FinalProject/.venv/lib/site-packages/tensorflow/python/eager/def_function.py?line=911'>912</a>\u001b[0m compiler \u001b[39m=\u001b[39m \u001b[39m\"\u001b[39m\u001b[39mxla\u001b[39m\u001b[39m\"\u001b[39m \u001b[39mif\u001b[39;00m \u001b[39mself\u001b[39m\u001b[39m.\u001b[39m_jit_compile \u001b[39melse\u001b[39;00m \u001b[39m\"\u001b[39m\u001b[39mnonXla\u001b[39m\u001b[39m\"\u001b[39m\n\u001b[0;32m    <a href='file:///d%3A/rbfre/Github/CS420FinalProject/.venv/lib/site-packages/tensorflow/python/eager/def_function.py?line=913'>914</a>\u001b[0m \u001b[39mwith\u001b[39;00m OptionalXlaContext(\u001b[39mself\u001b[39m\u001b[39m.\u001b[39m_jit_compile):\n\u001b[1;32m--> <a href='file:///d%3A/rbfre/Github/CS420FinalProject/.venv/lib/site-packages/tensorflow/python/eager/def_function.py?line=914'>915</a>\u001b[0m   result \u001b[39m=\u001b[39m \u001b[39mself\u001b[39m\u001b[39m.\u001b[39m_call(\u001b[39m*\u001b[39margs, \u001b[39m*\u001b[39m\u001b[39m*\u001b[39mkwds)\n\u001b[0;32m    <a href='file:///d%3A/rbfre/Github/CS420FinalProject/.venv/lib/site-packages/tensorflow/python/eager/def_function.py?line=916'>917</a>\u001b[0m new_tracing_count \u001b[39m=\u001b[39m \u001b[39mself\u001b[39m\u001b[39m.\u001b[39mexperimental_get_tracing_count()\n\u001b[0;32m    <a href='file:///d%3A/rbfre/Github/CS420FinalProject/.venv/lib/site-packages/tensorflow/python/eager/def_function.py?line=917'>918</a>\u001b[0m without_tracing \u001b[39m=\u001b[39m (tracing_count \u001b[39m==\u001b[39m new_tracing_count)\n",
      "File \u001b[1;32md:\\rbfre\\Github\\CS420FinalProject\\.venv\\lib\\site-packages\\tensorflow\\python\\eager\\def_function.py:954\u001b[0m, in \u001b[0;36mFunction._call\u001b[1;34m(self, *args, **kwds)\u001b[0m\n\u001b[0;32m    <a href='file:///d%3A/rbfre/Github/CS420FinalProject/.venv/lib/site-packages/tensorflow/python/eager/def_function.py?line=950'>951</a>\u001b[0m \u001b[39mself\u001b[39m\u001b[39m.\u001b[39m_lock\u001b[39m.\u001b[39mrelease()\n\u001b[0;32m    <a href='file:///d%3A/rbfre/Github/CS420FinalProject/.venv/lib/site-packages/tensorflow/python/eager/def_function.py?line=951'>952</a>\u001b[0m \u001b[39m# In this case we have not created variables on the first call. So we can\u001b[39;00m\n\u001b[0;32m    <a href='file:///d%3A/rbfre/Github/CS420FinalProject/.venv/lib/site-packages/tensorflow/python/eager/def_function.py?line=952'>953</a>\u001b[0m \u001b[39m# run the first trace but we should fail if variables are created.\u001b[39;00m\n\u001b[1;32m--> <a href='file:///d%3A/rbfre/Github/CS420FinalProject/.venv/lib/site-packages/tensorflow/python/eager/def_function.py?line=953'>954</a>\u001b[0m results \u001b[39m=\u001b[39m \u001b[39mself\u001b[39m\u001b[39m.\u001b[39m_stateful_fn(\u001b[39m*\u001b[39margs, \u001b[39m*\u001b[39m\u001b[39m*\u001b[39mkwds)\n\u001b[0;32m    <a href='file:///d%3A/rbfre/Github/CS420FinalProject/.venv/lib/site-packages/tensorflow/python/eager/def_function.py?line=954'>955</a>\u001b[0m \u001b[39mif\u001b[39;00m \u001b[39mself\u001b[39m\u001b[39m.\u001b[39m_created_variables \u001b[39mand\u001b[39;00m \u001b[39mnot\u001b[39;00m ALLOW_DYNAMIC_VARIABLE_CREATION:\n\u001b[0;32m    <a href='file:///d%3A/rbfre/Github/CS420FinalProject/.venv/lib/site-packages/tensorflow/python/eager/def_function.py?line=955'>956</a>\u001b[0m   \u001b[39mraise\u001b[39;00m \u001b[39mValueError\u001b[39;00m(\u001b[39m\"\u001b[39m\u001b[39mCreating variables on a non-first call to a function\u001b[39m\u001b[39m\"\u001b[39m\n\u001b[0;32m    <a href='file:///d%3A/rbfre/Github/CS420FinalProject/.venv/lib/site-packages/tensorflow/python/eager/def_function.py?line=956'>957</a>\u001b[0m                    \u001b[39m\"\u001b[39m\u001b[39m decorated with tf.function.\u001b[39m\u001b[39m\"\u001b[39m)\n",
      "File \u001b[1;32md:\\rbfre\\Github\\CS420FinalProject\\.venv\\lib\\site-packages\\tensorflow\\python\\eager\\function.py:2956\u001b[0m, in \u001b[0;36mFunction.__call__\u001b[1;34m(self, *args, **kwargs)\u001b[0m\n\u001b[0;32m   <a href='file:///d%3A/rbfre/Github/CS420FinalProject/.venv/lib/site-packages/tensorflow/python/eager/function.py?line=2952'>2953</a>\u001b[0m \u001b[39mwith\u001b[39;00m \u001b[39mself\u001b[39m\u001b[39m.\u001b[39m_lock:\n\u001b[0;32m   <a href='file:///d%3A/rbfre/Github/CS420FinalProject/.venv/lib/site-packages/tensorflow/python/eager/function.py?line=2953'>2954</a>\u001b[0m   (graph_function,\n\u001b[0;32m   <a href='file:///d%3A/rbfre/Github/CS420FinalProject/.venv/lib/site-packages/tensorflow/python/eager/function.py?line=2954'>2955</a>\u001b[0m    filtered_flat_args) \u001b[39m=\u001b[39m \u001b[39mself\u001b[39m\u001b[39m.\u001b[39m_maybe_define_function(args, kwargs)\n\u001b[1;32m-> <a href='file:///d%3A/rbfre/Github/CS420FinalProject/.venv/lib/site-packages/tensorflow/python/eager/function.py?line=2955'>2956</a>\u001b[0m \u001b[39mreturn\u001b[39;00m graph_function\u001b[39m.\u001b[39;49m_call_flat(\n\u001b[0;32m   <a href='file:///d%3A/rbfre/Github/CS420FinalProject/.venv/lib/site-packages/tensorflow/python/eager/function.py?line=2956'>2957</a>\u001b[0m     filtered_flat_args, captured_inputs\u001b[39m=\u001b[39;49mgraph_function\u001b[39m.\u001b[39;49mcaptured_inputs)\n",
      "File \u001b[1;32md:\\rbfre\\Github\\CS420FinalProject\\.venv\\lib\\site-packages\\tensorflow\\python\\eager\\function.py:1853\u001b[0m, in \u001b[0;36mConcreteFunction._call_flat\u001b[1;34m(self, args, captured_inputs, cancellation_manager)\u001b[0m\n\u001b[0;32m   <a href='file:///d%3A/rbfre/Github/CS420FinalProject/.venv/lib/site-packages/tensorflow/python/eager/function.py?line=1848'>1849</a>\u001b[0m possible_gradient_type \u001b[39m=\u001b[39m gradients_util\u001b[39m.\u001b[39mPossibleTapeGradientTypes(args)\n\u001b[0;32m   <a href='file:///d%3A/rbfre/Github/CS420FinalProject/.venv/lib/site-packages/tensorflow/python/eager/function.py?line=1849'>1850</a>\u001b[0m \u001b[39mif\u001b[39;00m (possible_gradient_type \u001b[39m==\u001b[39m gradients_util\u001b[39m.\u001b[39mPOSSIBLE_GRADIENT_TYPES_NONE\n\u001b[0;32m   <a href='file:///d%3A/rbfre/Github/CS420FinalProject/.venv/lib/site-packages/tensorflow/python/eager/function.py?line=1850'>1851</a>\u001b[0m     \u001b[39mand\u001b[39;00m executing_eagerly):\n\u001b[0;32m   <a href='file:///d%3A/rbfre/Github/CS420FinalProject/.venv/lib/site-packages/tensorflow/python/eager/function.py?line=1851'>1852</a>\u001b[0m   \u001b[39m# No tape is watching; skip to running the function.\u001b[39;00m\n\u001b[1;32m-> <a href='file:///d%3A/rbfre/Github/CS420FinalProject/.venv/lib/site-packages/tensorflow/python/eager/function.py?line=1852'>1853</a>\u001b[0m   \u001b[39mreturn\u001b[39;00m \u001b[39mself\u001b[39m\u001b[39m.\u001b[39m_build_call_outputs(\u001b[39mself\u001b[39;49m\u001b[39m.\u001b[39;49m_inference_function\u001b[39m.\u001b[39;49mcall(\n\u001b[0;32m   <a href='file:///d%3A/rbfre/Github/CS420FinalProject/.venv/lib/site-packages/tensorflow/python/eager/function.py?line=1853'>1854</a>\u001b[0m       ctx, args, cancellation_manager\u001b[39m=\u001b[39;49mcancellation_manager))\n\u001b[0;32m   <a href='file:///d%3A/rbfre/Github/CS420FinalProject/.venv/lib/site-packages/tensorflow/python/eager/function.py?line=1854'>1855</a>\u001b[0m forward_backward \u001b[39m=\u001b[39m \u001b[39mself\u001b[39m\u001b[39m.\u001b[39m_select_forward_and_backward_functions(\n\u001b[0;32m   <a href='file:///d%3A/rbfre/Github/CS420FinalProject/.venv/lib/site-packages/tensorflow/python/eager/function.py?line=1855'>1856</a>\u001b[0m     args,\n\u001b[0;32m   <a href='file:///d%3A/rbfre/Github/CS420FinalProject/.venv/lib/site-packages/tensorflow/python/eager/function.py?line=1856'>1857</a>\u001b[0m     possible_gradient_type,\n\u001b[0;32m   <a href='file:///d%3A/rbfre/Github/CS420FinalProject/.venv/lib/site-packages/tensorflow/python/eager/function.py?line=1857'>1858</a>\u001b[0m     executing_eagerly)\n\u001b[0;32m   <a href='file:///d%3A/rbfre/Github/CS420FinalProject/.venv/lib/site-packages/tensorflow/python/eager/function.py?line=1858'>1859</a>\u001b[0m forward_function, args_with_tangents \u001b[39m=\u001b[39m forward_backward\u001b[39m.\u001b[39mforward()\n",
      "File \u001b[1;32md:\\rbfre\\Github\\CS420FinalProject\\.venv\\lib\\site-packages\\tensorflow\\python\\eager\\function.py:499\u001b[0m, in \u001b[0;36m_EagerDefinedFunction.call\u001b[1;34m(self, ctx, args, cancellation_manager)\u001b[0m\n\u001b[0;32m    <a href='file:///d%3A/rbfre/Github/CS420FinalProject/.venv/lib/site-packages/tensorflow/python/eager/function.py?line=496'>497</a>\u001b[0m \u001b[39mwith\u001b[39;00m _InterpolateFunctionError(\u001b[39mself\u001b[39m):\n\u001b[0;32m    <a href='file:///d%3A/rbfre/Github/CS420FinalProject/.venv/lib/site-packages/tensorflow/python/eager/function.py?line=497'>498</a>\u001b[0m   \u001b[39mif\u001b[39;00m cancellation_manager \u001b[39mis\u001b[39;00m \u001b[39mNone\u001b[39;00m:\n\u001b[1;32m--> <a href='file:///d%3A/rbfre/Github/CS420FinalProject/.venv/lib/site-packages/tensorflow/python/eager/function.py?line=498'>499</a>\u001b[0m     outputs \u001b[39m=\u001b[39m execute\u001b[39m.\u001b[39;49mexecute(\n\u001b[0;32m    <a href='file:///d%3A/rbfre/Github/CS420FinalProject/.venv/lib/site-packages/tensorflow/python/eager/function.py?line=499'>500</a>\u001b[0m         \u001b[39mstr\u001b[39;49m(\u001b[39mself\u001b[39;49m\u001b[39m.\u001b[39;49msignature\u001b[39m.\u001b[39;49mname),\n\u001b[0;32m    <a href='file:///d%3A/rbfre/Github/CS420FinalProject/.venv/lib/site-packages/tensorflow/python/eager/function.py?line=500'>501</a>\u001b[0m         num_outputs\u001b[39m=\u001b[39;49m\u001b[39mself\u001b[39;49m\u001b[39m.\u001b[39;49m_num_outputs,\n\u001b[0;32m    <a href='file:///d%3A/rbfre/Github/CS420FinalProject/.venv/lib/site-packages/tensorflow/python/eager/function.py?line=501'>502</a>\u001b[0m         inputs\u001b[39m=\u001b[39;49margs,\n\u001b[0;32m    <a href='file:///d%3A/rbfre/Github/CS420FinalProject/.venv/lib/site-packages/tensorflow/python/eager/function.py?line=502'>503</a>\u001b[0m         attrs\u001b[39m=\u001b[39;49mattrs,\n\u001b[0;32m    <a href='file:///d%3A/rbfre/Github/CS420FinalProject/.venv/lib/site-packages/tensorflow/python/eager/function.py?line=503'>504</a>\u001b[0m         ctx\u001b[39m=\u001b[39;49mctx)\n\u001b[0;32m    <a href='file:///d%3A/rbfre/Github/CS420FinalProject/.venv/lib/site-packages/tensorflow/python/eager/function.py?line=504'>505</a>\u001b[0m   \u001b[39melse\u001b[39;00m:\n\u001b[0;32m    <a href='file:///d%3A/rbfre/Github/CS420FinalProject/.venv/lib/site-packages/tensorflow/python/eager/function.py?line=505'>506</a>\u001b[0m     outputs \u001b[39m=\u001b[39m execute\u001b[39m.\u001b[39mexecute_with_cancellation(\n\u001b[0;32m    <a href='file:///d%3A/rbfre/Github/CS420FinalProject/.venv/lib/site-packages/tensorflow/python/eager/function.py?line=506'>507</a>\u001b[0m         \u001b[39mstr\u001b[39m(\u001b[39mself\u001b[39m\u001b[39m.\u001b[39msignature\u001b[39m.\u001b[39mname),\n\u001b[0;32m    <a href='file:///d%3A/rbfre/Github/CS420FinalProject/.venv/lib/site-packages/tensorflow/python/eager/function.py?line=507'>508</a>\u001b[0m         num_outputs\u001b[39m=\u001b[39m\u001b[39mself\u001b[39m\u001b[39m.\u001b[39m_num_outputs,\n\u001b[1;32m   (...)\u001b[0m\n\u001b[0;32m    <a href='file:///d%3A/rbfre/Github/CS420FinalProject/.venv/lib/site-packages/tensorflow/python/eager/function.py?line=510'>511</a>\u001b[0m         ctx\u001b[39m=\u001b[39mctx,\n\u001b[0;32m    <a href='file:///d%3A/rbfre/Github/CS420FinalProject/.venv/lib/site-packages/tensorflow/python/eager/function.py?line=511'>512</a>\u001b[0m         cancellation_manager\u001b[39m=\u001b[39mcancellation_manager)\n",
      "File \u001b[1;32md:\\rbfre\\Github\\CS420FinalProject\\.venv\\lib\\site-packages\\tensorflow\\python\\eager\\execute.py:54\u001b[0m, in \u001b[0;36mquick_execute\u001b[1;34m(op_name, num_outputs, inputs, attrs, ctx, name)\u001b[0m\n\u001b[0;32m     <a href='file:///d%3A/rbfre/Github/CS420FinalProject/.venv/lib/site-packages/tensorflow/python/eager/execute.py?line=51'>52</a>\u001b[0m \u001b[39mtry\u001b[39;00m:\n\u001b[0;32m     <a href='file:///d%3A/rbfre/Github/CS420FinalProject/.venv/lib/site-packages/tensorflow/python/eager/execute.py?line=52'>53</a>\u001b[0m   ctx\u001b[39m.\u001b[39mensure_initialized()\n\u001b[1;32m---> <a href='file:///d%3A/rbfre/Github/CS420FinalProject/.venv/lib/site-packages/tensorflow/python/eager/execute.py?line=53'>54</a>\u001b[0m   tensors \u001b[39m=\u001b[39m pywrap_tfe\u001b[39m.\u001b[39;49mTFE_Py_Execute(ctx\u001b[39m.\u001b[39;49m_handle, device_name, op_name,\n\u001b[0;32m     <a href='file:///d%3A/rbfre/Github/CS420FinalProject/.venv/lib/site-packages/tensorflow/python/eager/execute.py?line=54'>55</a>\u001b[0m                                       inputs, attrs, num_outputs)\n\u001b[0;32m     <a href='file:///d%3A/rbfre/Github/CS420FinalProject/.venv/lib/site-packages/tensorflow/python/eager/execute.py?line=55'>56</a>\u001b[0m \u001b[39mexcept\u001b[39;00m core\u001b[39m.\u001b[39m_NotOkStatusException \u001b[39mas\u001b[39;00m e:\n\u001b[0;32m     <a href='file:///d%3A/rbfre/Github/CS420FinalProject/.venv/lib/site-packages/tensorflow/python/eager/execute.py?line=56'>57</a>\u001b[0m   \u001b[39mif\u001b[39;00m name \u001b[39mis\u001b[39;00m \u001b[39mnot\u001b[39;00m \u001b[39mNone\u001b[39;00m:\n",
      "\u001b[1;31mKeyboardInterrupt\u001b[0m: "
     ]
    }
   ],
   "source": [
    "gaInstance.run()\n",
    "gaInstance.plot_fitness(title=\"woO baby\", linewidth=4)"
   ]
  },
  {
   "cell_type": "markdown",
   "metadata": {},
   "source": []
  }
 ],
 "metadata": {
  "accelerator": "GPU",
  "colab": {
   "collapsed_sections": [],
   "name": "verifyNeural.ipynb",
   "provenance": []
  },
  "interpreter": {
   "hash": "a0f82c626366566345e874f86ac566c29ee2b388954eabd0fa490f69ee941129"
  },
  "kernelspec": {
   "display_name": "Python 3 (ipykernel)",
   "language": "python",
   "name": "python3"
  },
  "language_info": {
   "codemirror_mode": {
    "name": "ipython",
    "version": 3
   },
   "file_extension": ".py",
   "mimetype": "text/x-python",
   "name": "python",
   "nbconvert_exporter": "python",
   "pygments_lexer": "ipython3",
   "version": "3.9.5"
  }
 },
 "nbformat": 4,
 "nbformat_minor": 1
}
